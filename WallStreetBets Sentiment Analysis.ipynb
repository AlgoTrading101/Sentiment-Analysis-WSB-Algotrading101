{
 "cells": [
  {
   "cell_type": "code",
   "execution_count": null,
   "metadata": {},
   "outputs": [],
   "source": [
    "import pandas as pd\n",
    "import numpy as np \n",
    "import matplotlib\n",
    "import seaborn as sns\n",
    "import plotly.express as px\n",
    "import text2emotion as te\n",
    "import matplotlib.pyplot as plt\n",
    "%matplotlib inline \n",
    "from wordcloud import ImageColorGenerator, WordCloud, STOPWORDS\n",
    "from textblob import TextBlob\n",
    "from IPython.display import clear_output\n",
    "from time import sleep\n",
    "import missingno\n",
    "import nltk\n",
    "from nltk.sentiment.vader import SentimentIntensityAnalyzer as SIA\n",
    "nltk.download('vader_lexicon')\n",
    "import re\n",
    "import string"
   ]
  },
  {
   "cell_type": "code",
   "execution_count": null,
   "metadata": {},
   "outputs": [],
   "source": [
    "data = pd.read_csv('reddit_wsb.csv')\n",
    "data.tail()"
   ]
  },
  {
   "cell_type": "code",
   "execution_count": null,
   "metadata": {},
   "outputs": [],
   "source": [
    "data.info()"
   ]
  },
  {
   "cell_type": "code",
   "execution_count": null,
   "metadata": {},
   "outputs": [],
   "source": [
    "missingno.matrix(data)"
   ]
  },
  {
   "cell_type": "code",
   "execution_count": null,
   "metadata": {},
   "outputs": [],
   "source": [
    "def wordcloud(data, title=\"\"):\n",
    "    text = \" \".join(t for t in data.dropna())\n",
    "    stopwords = set(STOPWORDS)\n",
    "    stopwords.update([\"t\", \"co\", \"https\",\"U\", \"fuck\", \"amp\", \"fucking\", \"dope\", \"guy\"])\n",
    "    wordcloud = WordCloud(stopwords=stopwords, scale=5, max_font_size=55, max_words=550,background_color=\"white\").generate(text)\n",
    "    fig = plt.figure(1, figsize=(18,18))\n",
    "    plt.axis('off')\n",
    "    fig.suptitle(title, fontsize=20)\n",
    "    fig.subplots_adjust(top=2.3)\n",
    "    plt.imshow(wordcloud, interpolation='bilinear')\n",
    "    plt.show()"
   ]
  },
  {
   "cell_type": "code",
   "execution_count": null,
   "metadata": {},
   "outputs": [],
   "source": [
    "wordcloud(data['title'], title =\"Most used words in titles\")\n",
    "wordcloud(data['body'], title =\"Most used words in body\")"
   ]
  },
  {
   "cell_type": "code",
   "execution_count": null,
   "metadata": {},
   "outputs": [],
   "source": [
    "#Uncover emotions\n",
    "#data['OverallText'] = data.title + \" \" + data.body.astype(str)\n",
    "#emotions = []\n",
    "#from tqdm import tqdm_notebook as tqdm\n",
    "#tqdm().pandas()\n",
    "#for text in tqdm(data.OverallText):\n",
    "    #emotions.append(te.get_emotion(str(text)))"
   ]
  },
  {
   "cell_type": "code",
   "execution_count": null,
   "metadata": {},
   "outputs": [],
   "source": [
    "emotions_data = pd.DataFrame.from_dict(emotions)\n",
    "data['happy'] = emotions_data.Happy\n",
    "data['angry'] = emotions_data.Angry\n",
    "data['sad'] = emotions_data.Sad\n",
    "data['fear'] = emotions_data.Fear\n",
    "data['surprise'] = emotions_data.Surprise\n",
    "\n",
    "data.head()"
   ]
  },
  {
   "cell_type": "code",
   "execution_count": null,
   "metadata": {},
   "outputs": [],
   "source": [
    "emotions_data.head()"
   ]
  },
  {
   "cell_type": "code",
   "execution_count": null,
   "metadata": {},
   "outputs": [],
   "source": [
    "dominant_emotion = []\n",
    "\n",
    "for emotion in emotions_data.idxmax(axis=1):\n",
    "    dominant_emotion.append(emotion)\n",
    "    \n",
    "data['dominant'] = dominant_emotion\n",
    "data.head()"
   ]
  },
  {
   "cell_type": "code",
   "execution_count": null,
   "metadata": {},
   "outputs": [],
   "source": [
    "data.to_csv('WSB_Sentiment_Analysis', index=False)"
   ]
  },
  {
   "cell_type": "code",
   "execution_count": null,
   "metadata": {},
   "outputs": [],
   "source": [
    "data = pd.read_csv('WSB_Sentiment_Analysis')"
   ]
  },
  {
   "cell_type": "code",
   "execution_count": null,
   "metadata": {},
   "outputs": [],
   "source": [
    "data.tail()"
   ]
  },
  {
   "cell_type": "code",
   "execution_count": null,
   "metadata": {},
   "outputs": [],
   "source": [
    "ax = sns.violinplot(x=data['dominant'], y=data.index, split=True, data=data)\n",
    "ax.set_title('Dominant Emotions per Post')"
   ]
  },
  {
   "cell_type": "code",
   "execution_count": null,
   "metadata": {},
   "outputs": [],
   "source": [
    "#Set up the time\n",
    "day_name= ['Monday', 'Tuesday', 'Wednesday', 'Thursday', 'Friday', 'Saturday','Sunday']\n",
    "data['timestamp']=pd.to_datetime(data['timestamp'])\n",
    "data['date']=data['timestamp'].dt.day\n",
    "data['weekday']=data['timestamp'].dt.weekday\n",
    "data['weekday']=data['weekday'].apply(lambda x: day_name[x])\n",
    "data['hour']=data['timestamp'].dt.hour"
   ]
  },
  {
   "cell_type": "code",
   "execution_count": null,
   "metadata": {
    "scrolled": true
   },
   "outputs": [],
   "source": [
    "data"
   ]
  },
  {
   "cell_type": "code",
   "execution_count": null,
   "metadata": {},
   "outputs": [],
   "source": [
    "px.histogram(data,x='weekday',color='weekday')"
   ]
  },
  {
   "cell_type": "code",
   "execution_count": null,
   "metadata": {},
   "outputs": [],
   "source": [
    "#data[\"date\"] = pd.to_datetime(data.timestamp).dt.date\n",
    "by_hour = data.groupby([\"date\", \"hour\"]).mean()"
   ]
  },
  {
   "cell_type": "code",
   "execution_count": null,
   "metadata": {},
   "outputs": [],
   "source": [
    "pd.options.plotting.backend = \"plotly\""
   ]
  },
  {
   "cell_type": "code",
   "execution_count": null,
   "metadata": {},
   "outputs": [],
   "source": [
    "fig = by_hour.reset_index().plot(y = \"happy\", labels={\n",
    "                     \"happy\": \"Score ratio of each emotion\", \n",
    "                     \"index\": \"Hours since 9:00 AM, 1/28/2021\"\n",
    "                 },\n",
    "                title=\"Emotions expressed by hour\")\n",
    "fig.add_scatter(y=by_hour['happy'], mode='lines', name = \"Happy\")\n",
    "fig.add_scatter(y=by_hour['sad'], mode='lines', name = \"Sad\")\n",
    "fig.add_scatter(y=by_hour['angry'], mode='lines', name = \"Angry\")\n",
    "fig.add_scatter(y=by_hour['surprise'], mode='lines', name = \"Surprise\")\n",
    "fig.add_scatter(y=by_hour['fear'], mode='lines', name = \"Fear\")\n",
    "fig.show()"
   ]
  },
  {
   "cell_type": "code",
   "execution_count": null,
   "metadata": {},
   "outputs": [],
   "source": [
    "df1 = data[data['dominant'].str.contains(\"Fear\")]\n",
    "\n",
    "wordcloud(df1['title'], title= 'Most used fear words in title')\n",
    "wordcloud(df1['body'], title= 'Most used fear words in title')"
   ]
  },
  {
   "cell_type": "code",
   "execution_count": null,
   "metadata": {},
   "outputs": [],
   "source": [
    "title_data = data[['title','timestamp']].copy()\n",
    "body_data = data[['body','timestamp']].copy()\n",
    "\n",
    "body_data = body_data.dropna()\n",
    "title_data = title_data.dropna()\n",
    "\n",
    "title_data.title = title_data.title.str.lower()\n",
    "body_data.body = body_data.body.str.lower()\n",
    "\n",
    "title_data"
   ]
  },
  {
   "cell_type": "code",
   "execution_count": null,
   "metadata": {},
   "outputs": [],
   "source": [
    "#Remove URLS\n",
    "title_data.title = title_data.title.apply(lambda x:re.sub(r\"http\\S+\", \"\", x))\n",
    "body_data.body   = body_data.body.apply(lambda x:re.sub(r\"http\\S+\", \"\", x))\n",
    "\n",
    "#Remove all single characters\n",
    "title_data.title = title_data.title.apply(lambda x:re.sub(r'\\s+[a-zA-Z]\\s+', '', x))\n",
    "body_data.body   = body_data.body.apply(lambda x:re.sub(r'\\s+[a-zA-Z]\\s+', '', x))\n",
    "\n",
    "#Replace multiple spaces with a single one\n",
    "title_data.title = title_data.title.apply(lambda x:re.sub(r'\\s+', ' ', x, flags=re.I))\n",
    "body_data.body   = body_data.body.apply(lambda x:re.sub(r'\\s+', ' ', x, flags=re.I))\n",
    "\n",
    "# Remove all the special characters\n",
    "title_data.title = title_data.title.apply(lambda x:' '.join(re.findall(r'\\w+', x)))\n",
    "body_data.body   = body_data.body.apply(lambda x:' '.join(re.findall(r'\\w+', x)))\n",
    "\n",
    "#Remove handles\n",
    "title_data.title = title_data.title.apply(lambda x:re.sub('@[^\\s]+','',x))\n",
    "body_data.body   = body_data.body.apply(lambda x:re.sub('@[^\\s]+','',x))\n",
    "\n",
    "#Remove Time From Timestamp\n",
    "title_data.timestamp = pd.to_datetime(title_data.timestamp).dt.date\n",
    "body_data.timestamp = pd.to_datetime(body_data.timestamp).dt.date"
   ]
  },
  {
   "cell_type": "code",
   "execution_count": null,
   "metadata": {},
   "outputs": [],
   "source": [
    "print(body_data.shape)\n",
    "print(title_data.shape)"
   ]
  },
  {
   "cell_type": "code",
   "execution_count": null,
   "metadata": {},
   "outputs": [],
   "source": [
    "title_data"
   ]
  },
  {
   "cell_type": "code",
   "execution_count": null,
   "metadata": {},
   "outputs": [],
   "source": [
    "results = []\n",
    "\n",
    "def Vader_SIA(data):\n",
    "    for text in data:\n",
    "        pol_score = SIA().polarity_scores(text) # run analysis\n",
    "        results.append(pol_score)\n",
    "             \n",
    "    return(results)"
   ]
  },
  {
   "cell_type": "code",
   "execution_count": null,
   "metadata": {},
   "outputs": [],
   "source": [
    "Vader_SIA(title_data['title']).head()"
   ]
  },
  {
   "cell_type": "code",
   "execution_count": null,
   "metadata": {},
   "outputs": [],
   "source": [
    "Vader_SIA(body_data['body']).head()"
   ]
  },
  {
   "cell_type": "code",
   "execution_count": null,
   "metadata": {
    "scrolled": true
   },
   "outputs": [],
   "source": [
    "body_data['compound'] = pd.DataFrame(results)['compound']\n",
    "body_data['positive'] = pd.DataFrame(results)['pos']\n",
    "body_data['negative'] = pd.DataFrame(results)['neg']\n",
    "body_data['neutral'] = pd.DataFrame(results)['neu']\n",
    "\n",
    "title_data['compound'] = pd.DataFrame(results)['compound']\n",
    "title_data['positive'] = pd.DataFrame(results)['pos']\n",
    "title_data['negative'] = pd.DataFrame(results)['neg']\n",
    "title_data['neutral'] = pd.DataFrame(results)['neu']\n",
    "title_data"
   ]
  },
  {
   "cell_type": "code",
   "execution_count": null,
   "metadata": {},
   "outputs": [],
   "source": [
    "sentiment = []\n",
    "def Final_Sentiment(data):\n",
    "    for score in data:\n",
    "        if score >=0.05:\n",
    "            sentiment.append('Positive')\n",
    "        elif score <= - 0.05:\n",
    "            sentiment.append('Negative')\n",
    "        else:\n",
    "            sentiment.append('Neutral')\n",
    "    #return(sentiment)"
   ]
  },
  {
   "cell_type": "code",
   "execution_count": null,
   "metadata": {
    "scrolled": true
   },
   "outputs": [],
   "source": [
    "Final_Sentiment(title_data['compound'])\n",
    "title_data['sentiment'] = pd.DataFrame(sentiment)\n",
    "title_data"
   ]
  },
  {
   "cell_type": "code",
   "execution_count": null,
   "metadata": {},
   "outputs": [],
   "source": [
    "Final_Sentiment(body_data['compound'])\n",
    "body_data['sentiment'] = pd.DataFrame(sentiment)\n",
    "body_data"
   ]
  },
  {
   "cell_type": "code",
   "execution_count": null,
   "metadata": {},
   "outputs": [],
   "source": [
    "def sentiment_plot(data, feature, title):\n",
    "    counts = data[feature].value_counts()\n",
    "    percent = counts/sum(counts)\n",
    "    fig, (ax1, ax2) = plt.subplots(ncols=2, figsize=(15, 6))\n",
    "    counts.plot(kind='bar', ax=ax1, color='orange')\n",
    "    percent.plot(kind='bar', ax=ax2, color='red')\n",
    "    ax1.set_ylabel(f'Counts : {title} sentiment', size=12)\n",
    "    ax2.set_ylabel(f'Percentage : {title} sentiment', size=12)\n",
    "    plt.tight_layout()\n",
    "    plt.show()"
   ]
  },
  {
   "cell_type": "code",
   "execution_count": null,
   "metadata": {},
   "outputs": [],
   "source": [
    "sentiment_plot(title_data, 'sentiment', 'Title')\n",
    "sentiment_plot(body_data, 'sentiment', 'Title')"
   ]
  },
  {
   "cell_type": "code",
   "execution_count": null,
   "metadata": {},
   "outputs": [],
   "source": [
    "wordcloud(title_data.loc[title_data['sentiment']=='Positive', 'title'], \n",
    "               title = 'Most used positive sentiment words in titles')\n",
    "wordcloud(title_data.loc[title_data['sentiment']=='Negative', 'title'], \n",
    "               title = 'Most used negative sentiment words in titles')"
   ]
  },
  {
   "cell_type": "code",
   "execution_count": null,
   "metadata": {},
   "outputs": [],
   "source": [
    "wordcloud(body_data.loc[body_data['sentiment']=='Positive', 'body'], \n",
    "               title = 'Most used positive sentiment words in bodies')\n",
    "wordcloud(body_data.loc[body_data['sentiment']=='Negative', 'body'], \n",
    "               title = 'Most used negative sentiment words in bodies')"
   ]
  },
  {
   "cell_type": "code",
   "execution_count": null,
   "metadata": {},
   "outputs": [],
   "source": [
    "ax = sns.boxplot(x=title_data['sentiment'], y=title_data['compound'], data=title_data)\n",
    "ax.set_title('Sentiment strength')"
   ]
  },
  {
   "cell_type": "code",
   "execution_count": null,
   "metadata": {},
   "outputs": [],
   "source": [
    "ax = sns.boxplot(x=body_data['sentiment'], y=body_data['compound'], data=body_data)\n",
    "ax.set_title('Sentiment strength')"
   ]
  },
  {
   "cell_type": "code",
   "execution_count": null,
   "metadata": {},
   "outputs": [],
   "source": [
    "def Textblob_Polarity(text):\n",
    "    blob = TextBlob(text)\n",
    "    polarity_score = 0\n",
    "    for sentence in blob.sentences:\n",
    "        polarity_score += sentence.sentiment.polarity\n",
    "    return polarity_score\n",
    "\n",
    "def TextBlob_Subjectivity(text):\n",
    "    blob = TextBlob(text)\n",
    "    subjectivity_score = 0\n",
    "    for sentence in blob.sentences:\n",
    "        subjectivity_score += sentence.sentiment.subjectivity\n",
    "    return subjectivity_score"
   ]
  },
  {
   "cell_type": "code",
   "execution_count": null,
   "metadata": {},
   "outputs": [],
   "source": [
    "title_data['polarity'] = title_data['title'].apply(lambda x: Textblob_Polarity(x))\n",
    "title_data['subjectivity'] = title_data['title'].apply(lambda x: TextBlob_Subjectivity(x))\n",
    "\n",
    "body_data['polarity'] = body_data['body'].apply(lambda x: Textblob_Polarity(x))\n",
    "body_data['subjectivity'] = body_data['body'].apply(lambda x: TextBlob_Subjectivity(x))"
   ]
  },
  {
   "cell_type": "code",
   "execution_count": null,
   "metadata": {},
   "outputs": [],
   "source": [
    "title_data"
   ]
  },
  {
   "cell_type": "code",
   "execution_count": null,
   "metadata": {},
   "outputs": [],
   "source": [
    "def textblob_sentiment(df, feature, title):\n",
    "    polarity = df['polarity']\n",
    "    subjectivity = df['subjectivity']\n",
    "    fig, (ax1, ax2) = plt.subplots(ncols=2, figsize=(12, 5))\n",
    "    polarity.plot(kind='kde', ax=ax1, color='magenta')\n",
    "    subjectivity.plot(kind='kde', ax=ax2, color='green')\n",
    "    ax1.set_ylabel(f'Sentiment polarity in {title}', size=12)\n",
    "    ax2.set_ylabel(f'Sentiment subjectivity in {title}', size=12)\n",
    "    plt.tight_layout()\n",
    "    plt.show()"
   ]
  },
  {
   "cell_type": "code",
   "execution_count": null,
   "metadata": {},
   "outputs": [],
   "source": [
    "textblob_sentiment(title_data, 'title', 'title')\n",
    "textblob_sentiment(body_data, 'body', 'body')"
   ]
  },
  {
   "cell_type": "code",
   "execution_count": null,
   "metadata": {
    "scrolled": true
   },
   "outputs": [],
   "source": [
    "title_data['date']=data['timestamp'].dt.day\n",
    "title_data['hour']=data['timestamp'].dt.hour\n",
    "by_day = title_data.groupby(\"date\").mean()\n",
    "\n",
    "fig = by_day.reset_index().plot(y = \"compound\", labels={\n",
    "                     \"compound\": \"Score ratios of each sentiment\", \n",
    "                     \"index\": \"Days from 1/28/2021\"\n",
    "                 },\n",
    "                title=\"Title Sentiment scores by day\")\n",
    "fig.add_scatter(y=by_day['subjectivity'], mode='lines', name = \"Subjectivity\")\n",
    "fig.add_scatter(y=by_day['compound'], mode='lines', name = \"Compound\")\n",
    "fig.add_scatter(y=by_day['polarity'], mode='lines', name = \"Polarity\")\n",
    "fig.add_scatter(y=by_day['positive'], mode='lines', name = \"Positive\")\n",
    "fig.add_scatter(y=by_day['negative'], mode='lines', name = \"Negative\")\n",
    "\n",
    "\n",
    "\n",
    "fig.show()"
   ]
  },
  {
   "cell_type": "code",
   "execution_count": null,
   "metadata": {},
   "outputs": [],
   "source": [
    "from nltk.tokenize import sent_tokenize, word_tokenize\n",
    "from nltk.probability import FreqDist\n",
    "from nltk.corpus import stopwords\n",
    "from nltk.stem import PorterStemmer\n",
    "from nltk.stem.wordnet import WordNetLemmatizer"
   ]
  },
  {
   "cell_type": "code",
   "execution_count": null,
   "metadata": {},
   "outputs": [],
   "source": [
    "text = 'Hello my dear algotraders! I hope that this article is enjoyable to read. I wish you the best of luck in your endeavours'\n",
    "\n",
    "sentence_tokenization = sent_tokenize(text)\n",
    "sentence_tokenization"
   ]
  },
  {
   "cell_type": "code",
   "execution_count": null,
   "metadata": {},
   "outputs": [],
   "source": [
    "word_tokenization = word_tokenize(text)\n",
    "word_tokenization"
   ]
  },
  {
   "cell_type": "code",
   "execution_count": null,
   "metadata": {},
   "outputs": [],
   "source": [
    "freq_dist = FreqDist(word_tokenization)\n",
    "freq_dist.most_common(1)"
   ]
  },
  {
   "cell_type": "code",
   "execution_count": null,
   "metadata": {},
   "outputs": [],
   "source": [
    "stop_words=set(stopwords.words(\"english\"))\n",
    "stop_words"
   ]
  },
  {
   "cell_type": "code",
   "execution_count": null,
   "metadata": {},
   "outputs": [],
   "source": [
    "ps = PorterStemmer()\n",
    "example_words = [\"python\",\"pythoner\",\"pythoning\",\"pythoned\"]\n",
    "\n",
    "for w in example_words:\n",
    "    print(ps.stem(w))"
   ]
  },
  {
   "cell_type": "code",
   "execution_count": null,
   "metadata": {},
   "outputs": [],
   "source": [
    "lem = WordNetLemmatizer()\n",
    "\n",
    "word = \"frying\"\n",
    "print(\"Lemmatization:\",lem.lemmatize(word,\"v\"))\n",
    "print(\"Stemming:\",ps.stem(word))"
   ]
  },
  {
   "cell_type": "code",
   "execution_count": null,
   "metadata": {},
   "outputs": [],
   "source": [
    "model_data = body_data[['body', 'sentiment']].copy()\n",
    "\n",
    "def recoding(data):\n",
    "    if data == 'Positive':\n",
    "        return 1\n",
    "    elif data == 'Negative':\n",
    "        return -1\n",
    "    else:\n",
    "        return 0\n",
    "\n",
    "model_data['sentiment'] = model_data['sentiment'].apply(recoding)\n",
    "model_data.tail()"
   ]
  },
  {
   "cell_type": "code",
   "execution_count": null,
   "metadata": {},
   "outputs": [],
   "source": [
    "from sklearn.feature_extraction.text import CountVectorizer"
   ]
  },
  {
   "cell_type": "code",
   "execution_count": null,
   "metadata": {},
   "outputs": [],
   "source": [
    "cv = CountVectorizer(stop_words='english')\n",
    "text_matrix = cv.fit_transform(model_data['body'])\n",
    "text_matrix"
   ]
  },
  {
   "cell_type": "code",
   "execution_count": null,
   "metadata": {},
   "outputs": [],
   "source": [
    "from sklearn.model_selection import train_test_split\n",
    "from sklearn.naive_bayes import MultinomialNB\n",
    "from sklearn import metrics"
   ]
  },
  {
   "cell_type": "code",
   "execution_count": null,
   "metadata": {},
   "outputs": [],
   "source": [
    "X_train, X_test, y_train, y_test = train_test_split(\n",
    "    text_matrix, model_data['sentiment'], test_size=0.2, random_state=42)"
   ]
  },
  {
   "cell_type": "code",
   "execution_count": null,
   "metadata": {},
   "outputs": [],
   "source": [
    "clf = MultinomialNB().fit(X_train, y_train)\n",
    "predicted = clf.predict(X_train)\n",
    "print(\"Accuracy of classifier:\",metrics.accuracy_score(y_train, predicted))"
   ]
  },
  {
   "cell_type": "code",
   "execution_count": null,
   "metadata": {},
   "outputs": [],
   "source": [
    "from sklearn.feature_extraction.text import TfidfVectorizer"
   ]
  },
  {
   "cell_type": "code",
   "execution_count": null,
   "metadata": {},
   "outputs": [],
   "source": [
    "tf_id = TfidfVectorizer()\n",
    "text_td_id_matrix = tf_id.fit_transform(model_data['body'])"
   ]
  },
  {
   "cell_type": "code",
   "execution_count": null,
   "metadata": {},
   "outputs": [],
   "source": [
    "X_train, X_test, y_train, y_test = train_test_split(\n",
    "    text_td_id_matrix, model_data['sentiment'], test_size=0.2, random_state=42)"
   ]
  },
  {
   "cell_type": "code",
   "execution_count": null,
   "metadata": {},
   "outputs": [],
   "source": [
    "clf = MultinomialNB().fit(X_train, y_train)\n",
    "predicted = clf.predict(X_train)\n",
    "print(\"Accuracy of classifier:\",metrics.accuracy_score(y_train, predicted))"
   ]
  },
  {
   "cell_type": "code",
   "execution_count": null,
   "metadata": {},
   "outputs": [],
   "source": [
    "from sklearn.linear_model import LogisticRegression"
   ]
  },
  {
   "cell_type": "code",
   "execution_count": null,
   "metadata": {},
   "outputs": [],
   "source": [
    "X_train, X_test, y_train, y_test = train_test_split(\n",
    "    text_td_id_matrix, model_data['sentiment'], test_size=0.2, random_state=42)\n",
    "\n",
    "logreg = LogisticRegression(solver='liblinear', multi_class='auto').fit(X_train, y_train)\n",
    "\n",
    "predicted = logreg.predict(X_train)\n",
    "print(\"Accuracy of classifier:\",metrics.accuracy_score(y_train, predicted))"
   ]
  },
  {
   "cell_type": "code",
   "execution_count": null,
   "metadata": {},
   "outputs": [],
   "source": [
    "X_train, X_test, y_train, y_test = train_test_split(\n",
    "    text_matrix, model_data['sentiment'], test_size=0.2, random_state=42)\n",
    "\n",
    "logreg = LogisticRegression(solver='liblinear', multi_class='auto').fit(X_train, y_train)\n",
    "\n",
    "predicted = logreg.predict(X_train)\n",
    "print(\"Accuracy of classifier:\",metrics.accuracy_score(y_train, predicted))"
   ]
  },
  {
   "cell_type": "code",
   "execution_count": null,
   "metadata": {},
   "outputs": [],
   "source": [
    "import scikitplot as skplt\n",
    "from sklearn.metrics import accuracy_score, make_scorer\n",
    "from sklearn.metrics import classification_report\n",
    "from sklearn.metrics import roc_auc_score\n",
    "from sklearn.metrics import confusion_matrix as cm\n",
    "from sklearn.metrics import plot_confusion_matrix"
   ]
  },
  {
   "cell_type": "code",
   "execution_count": null,
   "metadata": {},
   "outputs": [],
   "source": [
    "prediction = logreg.predict(X_test)\n",
    "print(\"Accuracy:\")\n",
    "response = accuracy_score(y_test,prediction)\n",
    "print(response)\n",
    "\n",
    "prediction = dict()\n",
    "prediction['Logistic'] = logreg.predict(X_test)\n",
    "\n",
    "confusion_matrix = cm(y_test, prediction['Logistic'])\n",
    "print(confusion_matrix)\n",
    "\n",
    "\n",
    "skplt.metrics.plot_confusion_matrix(y_test, prediction['Logistic'])\n",
    "plt.show()\n",
    "skplt.metrics.plot_confusion_matrix(y_test,prediction['Logistic'],normalize=True)\n",
    "plt.show()\n",
    "\n",
    "print(classification_report(y_test, prediction['Logistic']))"
   ]
  },
  {
   "cell_type": "code",
   "execution_count": null,
   "metadata": {},
   "outputs": [],
   "source": [
    "model_data = title_data[['title', 'sentiment']].copy()\n",
    "model_data['sentiment'] = model_data['sentiment'].apply(recoding)\n",
    "model_data = model_data[model_data.sentiment != 0]\n",
    "model_data"
   ]
  },
  {
   "cell_type": "code",
   "execution_count": null,
   "metadata": {},
   "outputs": [],
   "source": [
    "title_matrix = cv.fit_transform(model_data['title'])\n",
    "title_matrix"
   ]
  },
  {
   "cell_type": "code",
   "execution_count": null,
   "metadata": {},
   "outputs": [],
   "source": [
    "X_train, X_test, y_train, y_test = train_test_split(\n",
    "    title_matrix, model_data['sentiment'], test_size=0.2, random_state=42)"
   ]
  },
  {
   "cell_type": "code",
   "execution_count": null,
   "metadata": {},
   "outputs": [],
   "source": [
    "logreg = LogisticRegression(solver='liblinear', multi_class='auto').fit(X_train, y_train)\n",
    "\n",
    "prediction = logreg.predict(X_test)\n",
    "print(\"Accuracy:\")\n",
    "response = accuracy_score(y_test,prediction)\n",
    "print(response)\n",
    "\n",
    "prediction = dict()\n",
    "prediction['Logistic'] = logreg.predict(X_test)\n",
    "\n",
    "confusion_matrix = cm(y_test, prediction['Logistic'])\n",
    "print(confusion_matrix)\n",
    "\n",
    "\n",
    "skplt.metrics.plot_confusion_matrix(y_test, prediction['Logistic'])\n",
    "plt.show()\n",
    "skplt.metrics.plot_confusion_matrix(y_test,prediction['Logistic'],normalize=True)\n",
    "plt.show()\n",
    "\n",
    "print(classification_report(y_test, prediction['Logistic']))"
   ]
  },
  {
   "cell_type": "code",
   "execution_count": null,
   "metadata": {},
   "outputs": [],
   "source": []
  }
 ],
 "metadata": {
  "kernelspec": {
   "display_name": "Python 3",
   "language": "python",
   "name": "python3"
  },
  "language_info": {
   "codemirror_mode": {
    "name": "ipython",
    "version": 3
   },
   "file_extension": ".py",
   "mimetype": "text/x-python",
   "name": "python",
   "nbconvert_exporter": "python",
   "pygments_lexer": "ipython3",
   "version": "3.8.3"
  }
 },
 "nbformat": 4,
 "nbformat_minor": 4
}
